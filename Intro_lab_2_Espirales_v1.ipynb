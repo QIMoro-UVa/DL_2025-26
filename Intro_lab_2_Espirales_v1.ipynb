{
  "cells": [
    {
      "cell_type": "markdown",
      "metadata": {
        "id": "b145p52glgA4"
      },
      "source": [
        "# Introducción a las prácticas de laboratorio de Deep Learning y sus Aplicaciones\n",
        "\n",
        "## 2 - Otro ejemplo más complicado: el problema de las dos espirales\n",
        "\n",
        "Es altamente no lineal. Aquí se va a ver en 2 dimensiones (se puede generalizar a más dimensiones, como ocurre con el problema del ExcluiveOR)."
      ]
    },
    {
      "cell_type": "code",
      "execution_count": null,
      "metadata": {
        "id": "8G3KrcqelgBC"
      },
      "outputs": [],
      "source": [
        "import numpy as np\n",
        "import pandas as pd\n",
        "import matplotlib.pyplot as plt\n",
        "#import sklearn\n",
        "# Para acelerar los cálculos de scikit-learn (sklearn) en los procesadores Intel\n",
        "# pip install scikit-learn-intelex\n",
        "# y añadir en tus scripts\n",
        "# from sklearnex import patch_sklearn\n",
        "# patch_sklearn()\n",
        "\n",
        "import tensorflow as tf\n",
        "# import tensorflow.compat.v1 as tf   # para tensorflow-directml\n",
        "\n",
        "from tensorflow.keras.models import Sequential\n",
        "from tensorflow.keras import layers\n",
        "from tensorflow.keras.layers import Dense, Dropout, Activation\n",
        "from tensorflow.keras.optimizers import SGD, RMSprop\n",
        "from tensorflow.keras.callbacks import History\n",
        "\n"
      ]
    },
    {
      "cell_type": "code",
      "execution_count": null,
      "metadata": {
        "id": "94rZTz1BSyfC",
        "scrolled": true
      },
      "outputs": [],
      "source": [
        "def twospirals(n_points, noise=.5):\n",
        "    \"\"\"\n",
        "     Returns the two spirals dataset.\n",
        "    \"\"\"\n",
        "    n = np.sqrt(np.random.rand(n_points,1)) * 780 * (2*np.pi)/360\n",
        "    d1x = -np.cos(n)*n + np.random.rand(n_points,1) * noise\n",
        "    d1y = np.sin(n)*n + np.random.rand(n_points,1) * noise\n",
        "    return (np.vstack((np.hstack((d1x,d1y)),np.hstack((-d1x,-d1y)))),\n",
        "            np.hstack((np.zeros(n_points),np.ones(n_points))))\n",
        "\n",
        "X, y = twospirals(1000)\n",
        "\n",
        "# X son las coordenadas (x,y) de cada punto.\n",
        "# y son los valores o clases\n",
        "\n",
        "\n",
        "plt.title('training set')\n",
        "plt.plot(X[y==0,0], X[y==0,1], '.', label='class 1')\n",
        "plt.plot(X[y==1,0], X[y==1,1], '.', label='class 2')\n",
        "plt.legend()\n",
        "plt.show()"
      ]
    },
    {
      "cell_type": "code",
      "execution_count": null,
      "metadata": {
        "id": "CwZKCC0OzYGO"
      },
      "outputs": [],
      "source": [
        "# Crear y entrenar el mlp\n",
        "\n",
        "history = History ()\n",
        "\n",
        "model = Sequential()\n",
        "model.add(layers.Dense(8, input_dim=2, activation='tanh', name='Oculta1'))\n",
        "model.add(layers.Dense(6, activation='tanh', name='Oculta2'))\n",
        "model.add(layers.Dense(4, activation='tanh', name='Oculta3'))\n",
        "model.add(layers.Dense(1, activation='sigmoid', name=\"Salida\"))\n",
        "\n",
        "opt = RMSprop (learning_rate=0.01, momentum=0.0, epsilon=1e-7)\n",
        "\n",
        "model.compile(loss='binary_crossentropy', optimizer=opt)\n",
        "\n",
        "model.fit(X, y, epochs=1000, batch_size=10, verbose=0, callbacks=[history])\n",
        "\n",
        "epochs=history.epoch\n",
        "loss=history.history['loss']\n",
        "\n",
        "plt.scatter (epochs, loss)"
      ]
    },
    {
      "cell_type": "code",
      "execution_count": null,
      "metadata": {
        "id": "cu7DjY8k0XeH"
      },
      "outputs": [],
      "source": [
        "# Una representación gráfica algo espectacular...\n",
        "Pasos=20\n",
        "x0=np.linspace (-10.0, 10.0, Pasos)\n",
        "y0=np.linspace (-10.0, 10.0, Pasos)\n",
        "\n",
        "SalidaPrueba = np.empty (0)\n",
        "\n",
        "for y_prueba in y0:\n",
        "  for x_prueba in x0:\n",
        "    EntradaPrueba=np.array ([[x_prueba, y_prueba]], dtype=np.float32)\n",
        "    z=model.predict (EntradaPrueba)\n",
        "    SalidaPrueba=np.append (SalidaPrueba, z)\n",
        "\n",
        "\n",
        "plt.contourf (x0, y0, SalidaPrueba.reshape (Pasos, Pasos), 20)"
      ]
    },
    {
      "cell_type": "markdown",
      "metadata": {
        "id": "rm8G1iBDlgBN"
      },
      "source": [
        "## Trabajo un poco más serio\n",
        "Vamos a intentar estimar la capacidad de generalización de la red, probando el modelo con datos no vistos durante el entrenamiento."
      ]
    },
    {
      "cell_type": "code",
      "execution_count": null,
      "metadata": {
        "id": "JT6upwKbV1vR"
      },
      "outputs": [],
      "source": [
        "# Dividir los datos en entrenamiento y prueba.\n",
        "\n",
        "from sklearn.model_selection import train_test_split\n",
        "X_train, X_test, Y_train, Y_test = train_test_split (X, y, test_size=0.1)"
      ]
    },
    {
      "cell_type": "markdown",
      "metadata": {
        "id": "Zeg4il0klgBP"
      },
      "source": [
        "### Crear funciones útiles\n",
        "Como hemos visto en el apartado anterior que somos capaces de reproducir las dos espirales con una red neuronal artificial, vamos a crear un par de funciones englobando ese código y así poder reutilizarlo varias veces con la posibilidad de cambiar parámetros en cada ocasión."
      ]
    },
    {
      "cell_type": "code",
      "execution_count": null,
      "metadata": {
        "id": "ql7RVw0Ol56W"
      },
      "outputs": [],
      "source": [
        "# Función que crea y entrena el mlp\n",
        "\n",
        "def mi_mlp (npe1=8, npe2=8, epocas=1000, lr=0.001):\n",
        "    # Fíjate en los valores por defecto de los parámetros\n",
        "    history = History ()\n",
        "\n",
        "    print (\"Parámetros:\",npe1, npe2, epocas, lr)\n",
        "\n",
        "    model = Sequential()\n",
        "    model.add(layers.Dense(npe1, input_dim=2, activation='tanh', name=\"Oculta1\"))\n",
        "    model.add(layers.Dense(npe2, activation='tanh', name=\"Oculta2\"))\n",
        "    model.add(layers.Dense(1, activation='sigmoid', name=\"Salida\"))\n",
        "\n",
        "    opt = RMSprop(learning_rate=0.01, momentum=0.0, epsilon=1e-7)\n",
        "\n",
        "    model.compile(loss='binary_crossentropy', optimizer=opt)\n",
        "\n",
        "    model.fit(X_train, Y_train, epochs=epocas, batch_size=10, verbose=0, callbacks=[history])\n",
        "\n",
        "    #epochs=history.epoch\n",
        "    #loss=history.history['loss']\n",
        "\n",
        "    #plt.scatter (epochs, loss)\n",
        "    #plt.show()\n",
        "    return model"
      ]
    },
    {
      "cell_type": "code",
      "execution_count": null,
      "metadata": {
        "id": "S2eJoQbGnEZH",
        "tags": []
      },
      "outputs": [],
      "source": [
        "# Función que visualiza las espirales generadas por el modelo\n",
        "\n",
        "def DibujaEspiral (modelo):\n",
        "    model=modelo\n",
        "    Pasos=20\n",
        "    x0=np.linspace (-10.0, 10.0, Pasos)\n",
        "    y0=np.linspace (-10.0, 10.0, Pasos)\n",
        "\n",
        "    SalidaPrueba = np.empty (0)\n",
        "\n",
        "    for y_prueba in y0:\n",
        "      for x_prueba in x0:\n",
        "        EntradaPrueba=[x_prueba, y_prueba]\n",
        "        z=model.predict([[x_prueba, y_prueba]])\n",
        "        SalidaPrueba=np.append (SalidaPrueba, z)\n",
        "\n",
        "\n",
        "    plt.contourf (x0, y0, SalidaPrueba.reshape (Pasos, Pasos), 20)\n",
        "    plt.show()"
      ]
    },
    {
      "cell_type": "code",
      "execution_count": 12,
      "metadata": {
        "id": "2WcyifFtlgBT",
        "outputId": "7c8a83ee-5a18-4303-b685-397a01f96791",
        "colab": {
          "base_uri": "https://localhost:8080/",
          "height": 376
        }
      },
      "outputs": [
        {
          "output_type": "stream",
          "name": "stdout",
          "text": [
            "Parámetros: 8 8 1000 0.001\n"
          ]
        },
        {
          "output_type": "stream",
          "name": "stderr",
          "text": [
            "/usr/local/lib/python3.12/dist-packages/keras/src/layers/core/dense.py:93: UserWarning: Do not pass an `input_shape`/`input_dim` argument to a layer. When using Sequential models, prefer using an `Input(shape)` object as the first layer in the model instead.\n",
            "  super().__init__(activity_regularizer=activity_regularizer, **kwargs)\n"
          ]
        },
        {
          "output_type": "error",
          "ename": "IndexError",
          "evalue": "tuple index out of range",
          "traceback": [
            "\u001b[0;31m---------------------------------------------------------------------------\u001b[0m",
            "\u001b[0;31mIndexError\u001b[0m                                Traceback (most recent call last)",
            "\u001b[0;32m/tmp/ipython-input-129420852.py\u001b[0m in \u001b[0;36m<cell line: 0>\u001b[0;34m()\u001b[0m\n\u001b[1;32m      1\u001b[0m \u001b[0mmodelo\u001b[0m\u001b[0;34m=\u001b[0m\u001b[0mmi_mlp\u001b[0m \u001b[0;34m(\u001b[0m\u001b[0;34m)\u001b[0m\u001b[0;34m\u001b[0m\u001b[0;34m\u001b[0m\u001b[0m\n\u001b[0;32m----> 2\u001b[0;31m \u001b[0mDibujaEspiral\u001b[0m\u001b[0;34m(\u001b[0m\u001b[0mmodelo\u001b[0m\u001b[0;34m)\u001b[0m\u001b[0;34m\u001b[0m\u001b[0;34m\u001b[0m\u001b[0m\n\u001b[0m",
            "\u001b[0;32m/tmp/ipython-input-1682903761.py\u001b[0m in \u001b[0;36mDibujaEspiral\u001b[0;34m(modelo)\u001b[0m\n\u001b[1;32m     12\u001b[0m       \u001b[0;32mfor\u001b[0m \u001b[0mx_prueba\u001b[0m \u001b[0;32min\u001b[0m \u001b[0mx0\u001b[0m\u001b[0;34m:\u001b[0m\u001b[0;34m\u001b[0m\u001b[0;34m\u001b[0m\u001b[0m\n\u001b[1;32m     13\u001b[0m         \u001b[0mEntradaPrueba\u001b[0m\u001b[0;34m=\u001b[0m\u001b[0;34m[\u001b[0m\u001b[0mx_prueba\u001b[0m\u001b[0;34m,\u001b[0m \u001b[0my_prueba\u001b[0m\u001b[0;34m]\u001b[0m\u001b[0;34m\u001b[0m\u001b[0;34m\u001b[0m\u001b[0m\n\u001b[0;32m---> 14\u001b[0;31m         \u001b[0mz\u001b[0m\u001b[0;34m=\u001b[0m\u001b[0mmodel\u001b[0m\u001b[0;34m.\u001b[0m\u001b[0mpredict\u001b[0m\u001b[0;34m(\u001b[0m\u001b[0;34m[\u001b[0m\u001b[0;34m[\u001b[0m\u001b[0mx_prueba\u001b[0m\u001b[0;34m,\u001b[0m \u001b[0my_prueba\u001b[0m\u001b[0;34m]\u001b[0m\u001b[0;34m]\u001b[0m\u001b[0;34m)\u001b[0m\u001b[0;34m\u001b[0m\u001b[0;34m\u001b[0m\u001b[0m\n\u001b[0m\u001b[1;32m     15\u001b[0m         \u001b[0mSalidaPrueba\u001b[0m\u001b[0;34m=\u001b[0m\u001b[0mnp\u001b[0m\u001b[0;34m.\u001b[0m\u001b[0mappend\u001b[0m \u001b[0;34m(\u001b[0m\u001b[0mSalidaPrueba\u001b[0m\u001b[0;34m,\u001b[0m \u001b[0mz\u001b[0m\u001b[0;34m)\u001b[0m\u001b[0;34m\u001b[0m\u001b[0;34m\u001b[0m\u001b[0m\n\u001b[1;32m     16\u001b[0m \u001b[0;34m\u001b[0m\u001b[0m\n",
            "\u001b[0;32m/usr/local/lib/python3.12/dist-packages/keras/src/utils/traceback_utils.py\u001b[0m in \u001b[0;36merror_handler\u001b[0;34m(*args, **kwargs)\u001b[0m\n\u001b[1;32m    120\u001b[0m             \u001b[0;31m# To get the full stack trace, call:\u001b[0m\u001b[0;34m\u001b[0m\u001b[0;34m\u001b[0m\u001b[0m\n\u001b[1;32m    121\u001b[0m             \u001b[0;31m# `keras.config.disable_traceback_filtering()`\u001b[0m\u001b[0;34m\u001b[0m\u001b[0;34m\u001b[0m\u001b[0m\n\u001b[0;32m--> 122\u001b[0;31m             \u001b[0;32mraise\u001b[0m \u001b[0me\u001b[0m\u001b[0;34m.\u001b[0m\u001b[0mwith_traceback\u001b[0m\u001b[0;34m(\u001b[0m\u001b[0mfiltered_tb\u001b[0m\u001b[0;34m)\u001b[0m \u001b[0;32mfrom\u001b[0m \u001b[0;32mNone\u001b[0m\u001b[0;34m\u001b[0m\u001b[0;34m\u001b[0m\u001b[0m\n\u001b[0m\u001b[1;32m    123\u001b[0m         \u001b[0;32mfinally\u001b[0m\u001b[0;34m:\u001b[0m\u001b[0;34m\u001b[0m\u001b[0;34m\u001b[0m\u001b[0m\n\u001b[1;32m    124\u001b[0m             \u001b[0;32mdel\u001b[0m \u001b[0mfiltered_tb\u001b[0m\u001b[0;34m\u001b[0m\u001b[0;34m\u001b[0m\u001b[0m\n",
            "\u001b[0;32m/usr/local/lib/python3.12/dist-packages/keras/src/trainers/data_adapters/data_adapter_utils.py\u001b[0m in \u001b[0;36m<genexpr>\u001b[0;34m(.0)\u001b[0m\n\u001b[1;32m    102\u001b[0m \u001b[0;34m\u001b[0m\u001b[0m\n\u001b[1;32m    103\u001b[0m \u001b[0;32mdef\u001b[0m \u001b[0mcheck_data_cardinality\u001b[0m\u001b[0;34m(\u001b[0m\u001b[0mdata\u001b[0m\u001b[0;34m)\u001b[0m\u001b[0;34m:\u001b[0m\u001b[0;34m\u001b[0m\u001b[0;34m\u001b[0m\u001b[0m\n\u001b[0;32m--> 104\u001b[0;31m     \u001b[0mnum_samples\u001b[0m \u001b[0;34m=\u001b[0m \u001b[0mset\u001b[0m\u001b[0;34m(\u001b[0m\u001b[0mint\u001b[0m\u001b[0;34m(\u001b[0m\u001b[0mi\u001b[0m\u001b[0;34m.\u001b[0m\u001b[0mshape\u001b[0m\u001b[0;34m[\u001b[0m\u001b[0;36m0\u001b[0m\u001b[0;34m]\u001b[0m\u001b[0;34m)\u001b[0m \u001b[0;32mfor\u001b[0m \u001b[0mi\u001b[0m \u001b[0;32min\u001b[0m \u001b[0mtree\u001b[0m\u001b[0;34m.\u001b[0m\u001b[0mflatten\u001b[0m\u001b[0;34m(\u001b[0m\u001b[0mdata\u001b[0m\u001b[0;34m)\u001b[0m\u001b[0;34m)\u001b[0m\u001b[0;34m\u001b[0m\u001b[0;34m\u001b[0m\u001b[0m\n\u001b[0m\u001b[1;32m    105\u001b[0m     \u001b[0;32mif\u001b[0m \u001b[0mlen\u001b[0m\u001b[0;34m(\u001b[0m\u001b[0mnum_samples\u001b[0m\u001b[0;34m)\u001b[0m \u001b[0;34m>\u001b[0m \u001b[0;36m1\u001b[0m\u001b[0;34m:\u001b[0m\u001b[0;34m\u001b[0m\u001b[0;34m\u001b[0m\u001b[0m\n\u001b[1;32m    106\u001b[0m         msg = (\n",
            "\u001b[0;31mIndexError\u001b[0m: tuple index out of range"
          ]
        }
      ],
      "source": [
        "modelo=mi_mlp ()\n",
        "DibujaEspiral(modelo)"
      ]
    },
    {
      "cell_type": "markdown",
      "metadata": {
        "id": "_ofjWV25lgBV"
      },
      "source": [
        "Calculemos el error que se comete en el conjunto de prueba."
      ]
    },
    {
      "cell_type": "code",
      "execution_count": null,
      "metadata": {
        "id": "6ob0Vcacp70I"
      },
      "outputs": [],
      "source": [
        "# ¡OJO! Este primer cálculo usa el error cuadrático medio.\n",
        "z=model.predict (X_test)\n",
        "e=z-Y_test.reshape ((200,1))\n",
        "print ((e**2).mean ())"
      ]
    },
    {
      "cell_type": "code",
      "execution_count": null,
      "metadata": {
        "id": "kVS5I59NlgBX"
      },
      "outputs": [],
      "source": [
        "# Pero lo que deberíamos ver es el número de puntos correctamente/erróneamente clasificados\n",
        "# Para ello hay que binarizar la salida z:\n",
        "\n",
        "eabs=abs (e)\n",
        "fallos=0\n",
        "for v in eabs:\n",
        "    if v >= 0.5:\n",
        "        fallos=fallos + 1\n",
        "\n",
        "print (fallos)"
      ]
    },
    {
      "cell_type": "markdown",
      "metadata": {
        "id": "f9RFsKMT20nA"
      },
      "source": [
        "### Aleatoriedad y Reproductibilidad de los experimentos\n",
        "El resultado del algoritmo de aprendizaje depende de cómo inicialicemos los pesos.\n",
        "Hay que repetir MUCHAS veces los experimentos y hacer estadísticas.\n",
        "Por sí solo, Keras y Tensorflow ya incorporan un mecanismo de inicialización aleatoria de los pesos, cuya semilla se ajusta automáticamente.\n",
        "Solo tienes que repetir el enrenamiento con los mismos datos y obtienes resultados diferentes.\n",
        "Si quieres poder tener reproductivilidad en los experimentos, usa el método set_seed (X), que fuerza a usar la semilla que especifiques."
      ]
    },
    {
      "cell_type": "code",
      "execution_count": null,
      "metadata": {
        "id": "1hWSp6U2lgBY"
      },
      "outputs": [],
      "source": [
        "# Vamos a repetir el experimento (entrenar-probar) cinco veces.\n",
        "# Pero para que sea más rápido, vamos cambiar los parámetros.\n",
        "\n",
        "for vez in [1,2,3]:\n",
        "    modelo=mi_mlp (epocas=10)\n",
        "    z=modelo.predict (X_test)\n",
        "    e=z-Y_test.reshape ((200,1))\n",
        "    print (vez, (e**2).mean ())"
      ]
    },
    {
      "cell_type": "code",
      "execution_count": null,
      "metadata": {
        "id": "V-nZLRzKlgBZ"
      },
      "outputs": [],
      "source": [
        "# Ahora controlamos la aleatoriedad\n",
        "\n",
        "import tensorflow\n",
        "\n",
        "from numpy.random import seed\n",
        "seed(1)\n",
        "# from tensorflow import set_random_seed # Ya no es necesario\n",
        "for vez in [1,2,3,4,5]:\n",
        "    tensorflow.random.set_seed(2)\n",
        "    modelo=mi_mlp (epocas=10)\n",
        "    z=modelo.predict (X_test)\n",
        "    e=z-Y_test.reshape ((200,1))\n",
        "    print (vez, (e**2).mean ())\n",
        "\n"
      ]
    },
    {
      "cell_type": "markdown",
      "metadata": {
        "id": "H3xGih1JlgBZ"
      },
      "source": [
        "### Optimización de hiperparámetros\n",
        "Como habrás observaddo, al declarar la función mi_mlp hemos incluido la posibilidad de variar algunos de los hiperparámetros pasando el nuevo valor como argumento.\n",
        "\n",
        "\n",
        "Busqemos alguna combinación que mejore los resultados. Para ello símplemente vamos a hacer un barrido y calcular el número puntos erróneamente asignados."
      ]
    },
    {
      "cell_type": "code",
      "execution_count": null,
      "metadata": {
        "id": "QjjGIjx3lgBa"
      },
      "outputs": [],
      "source": [
        "dfResultados=pd.DataFrame (columns=[\"npe1\", \"npe2\", \"lcoef\", \"Fallos\"])\n",
        "\n",
        "for capa1 in [2, 4, 8, 16]:\n",
        "    for capa2 in [2, 3, 4, 5]:\n",
        "        for lcoef in [0.01, 0.001, 0.0001]:\n",
        "            modelo=mi_mlp(npe1=capa1, npe2=capa2, lr=lcoef)\n",
        "            z=modelo.predict (X_test)\n",
        "            e=z-Y_test.reshape ((200,1))\n",
        "            eabs=abs (e)\n",
        "            fallos=0\n",
        "            for v in eabs:\n",
        "                if v >= 0.5:\n",
        "                    fallos=fallos + 1\n",
        "\n",
        "            dfResultados=dfResultados.append ({'npe1':capa1, 'npe2':capa2, 'lcoef':lcoef, 'Fallos':fallos}, ignore_index=True)\n",
        "\n",
        "dfResultados"
      ]
    },
    {
      "cell_type": "code",
      "execution_count": null,
      "metadata": {
        "id": "9EXEDBlelgBa"
      },
      "outputs": [],
      "source": [
        "# Esta celda está comentada porque no queremos perder el contenido del fichero que hemos creado hace un rato.\n",
        "\n",
        "# dfResultados.to_csv (\"Resultados_2Espirales.csv\")"
      ]
    },
    {
      "cell_type": "code",
      "execution_count": null,
      "metadata": {
        "id": "LaR731uulgBb"
      },
      "outputs": [],
      "source": [
        "\n",
        "dfResultados=pd.read_csv (\"Resultados_2Espirales.csv\")"
      ]
    },
    {
      "cell_type": "code",
      "execution_count": null,
      "metadata": {
        "id": "mgELPrGqlgBb"
      },
      "outputs": [],
      "source": [
        "dfResultados"
      ]
    },
    {
      "cell_type": "code",
      "execution_count": null,
      "metadata": {
        "id": "sWGn4NjGlgBc"
      },
      "outputs": [],
      "source": [
        "dfResultados=dfResultados.pivot(index=[\"npe1\", \"lcoef\"],columns=\"npe2\",values=\"Fallos\")\n",
        "dfResultados.style.highlight_min ()"
      ]
    },
    {
      "cell_type": "code",
      "execution_count": null,
      "metadata": {
        "id": "X84dOZPNlgBc"
      },
      "outputs": [],
      "source": []
    }
  ],
  "metadata": {
    "colab": {
      "name": "2Espirales-Keras.ipynb",
      "provenance": []
    },
    "kernelspec": {
      "display_name": "Python 3.9.12 ('base')",
      "language": "python",
      "name": "python3"
    },
    "language_info": {
      "codemirror_mode": {
        "name": "ipython",
        "version": 3
      },
      "file_extension": ".py",
      "mimetype": "text/x-python",
      "name": "python",
      "nbconvert_exporter": "python",
      "pygments_lexer": "ipython3",
      "version": "3.11.4"
    },
    "vscode": {
      "interpreter": {
        "hash": "8e5e9526956f0969fe605d41ae39091028f4f1b8fb42028371b20ef3bd5381d3"
      }
    }
  },
  "nbformat": 4,
  "nbformat_minor": 0
}