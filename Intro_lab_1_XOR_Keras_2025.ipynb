{
  "cells": [
    {
      "cell_type": "markdown",
      "metadata": {
        "id": "ZoAiqyRh-q-K"
      },
      "source": [
        "# Introducción a las prácticas de laboratorio de Deep Learning y sus Aplicaciones\n",
        "\n",
        "## 1 - Un ejemplo sencillo: Exclusive-OR\n",
        "### Objetivos\n",
        "- Los datos: Crear, salvar y leer\n",
        "- Primera red MLP con Keras\n",
        "\n",
        "Tiempo estimado: 15 minutos\n",
        "\n",
        "Evaluación: no hay"
      ]
    },
    {
      "cell_type": "markdown",
      "metadata": {
        "id": "aubSoa0W-q-L"
      },
      "source": [
        "### Los datos: Crear, salvar y leer.\n",
        "Usaremos, siempre que sea posible, ficheros con datos en formato csv (valores separados por comas, aunque puede que en vez de comas se usen otros caracteres, como ';', ó tabuladores...). Este formato de datos es sencillo y admitido por casi todas las plataformas. Desde luego hay otras posibilidades que el lenguaje Python admite de manera igualmente sencilla, pero en algunos casos implica tener instalado otro software (como gestores de bases datos).\n",
        "\n",
        "Para alojar los datos en Python usaremos arrays (numpy) o DataFrames (pandas), aunque también es posible usar listas, diccionarios, tuplas..."
      ]
    },
    {
      "cell_type": "code",
      "execution_count": 14,
      "metadata": {
        "colab": {
          "base_uri": "https://localhost:8080/"
        },
        "id": "d8X8YBTOU4dm",
        "outputId": "a56173fd-946c-45ea-8133-7c702f215e5b",
        "scrolled": true
      },
      "outputs": [
        {
          "output_type": "stream",
          "name": "stdout",
          "text": [
            "0.0;0.0;0.0\n",
            "0.0;1.0;1.0\n",
            "1.0;0.0;1.0\n",
            "1.0;1.0;0.0\n",
            "Leemos el fichero línea a línea:\n",
            "0.0;0.0;0.0\n",
            "0.0;1.0;1.0\n",
            "1.0;0.0;1.0\n",
            "1.0;1.0;0.0\n"
          ]
        }
      ],
      "source": [
        "# Algo a muy bajo nivel, tan solo para ver cómo se puede hacer, pero este enfoque está desaconsejado...\n",
        "\n",
        "# Crear un fichero con los datos del XOR\n",
        "\n",
        "fpOut = open (\"DatosXOR.csv\", \"w\")\n",
        "\n",
        "for x in [0.0, 1.0]:\n",
        "  for y in [0.0, 1.0]:\n",
        "    if (x + y == 0) or (x+y == 2):\n",
        "      z = 0.0\n",
        "    else:\n",
        "      z = 1.0\n",
        "\n",
        "    linea = str (x)+\";\"+str (y) + \";\"+str (z)+'\\n'\n",
        "    fpOut.write (linea)\n",
        "    print (linea, end='') # La línea ya contiene un retorno de carro.\n",
        "\n",
        "fpOut.close()\n",
        "\n",
        "# Para leerlo:\n",
        "\n",
        "print (\"Leemos el fichero línea a línea:\")\n",
        "\n",
        "fpIn = open (\"DatosXOR.csv\", \"r\")\n",
        "for linea in fpIn:\n",
        "  print (linea, end='') # La línea ya contiene un retorno de carro.\n",
        "\n",
        "fpIn.close ()"
      ]
    },
    {
      "cell_type": "markdown",
      "metadata": {
        "id": "IdYzMbZd-q-M"
      },
      "source": [
        "En las celdas anteriores no hicimos referencia a funciones de paquetes específicos, pero para las siguientes es necesario importar determinados paquetes.\n",
        "\n",
        "Agrupamos todas las dependencias de nuestro código Python en esta celda."
      ]
    },
    {
      "cell_type": "code",
      "execution_count": 15,
      "metadata": {
        "id": "63rJWmMI-q-N"
      },
      "outputs": [],
      "source": [
        "import pandas as pd\n",
        "import seaborn as sns\n",
        "import numpy as np\n",
        "import matplotlib\n",
        "import matplotlib.pyplot as plt\n",
        "import seaborn as sns\n",
        "\n",
        "import tensorflow.compat.v1 as tf\n",
        "\n",
        "from tensorflow.keras import layers\n",
        "from tensorflow.keras.models import Sequential\n",
        "from tensorflow.keras.optimizers import SGD\n",
        "from tensorflow.keras.callbacks import History\n",
        "\n",
        "from tensorflow.keras.layers import Dense, Dropout, Activation"
      ]
    },
    {
      "cell_type": "code",
      "execution_count": 16,
      "metadata": {
        "id": "msM1xpq0-q-N",
        "outputId": "d3df9b67-ea6c-494a-8ad6-186bc2bf4fcc",
        "colab": {
          "base_uri": "https://localhost:8080/"
        }
      },
      "outputs": [
        {
          "output_type": "stream",
          "name": "stdout",
          "text": [
            "2.2.2\n",
            "2.0.2\n",
            "0.13.2\n",
            "3.10.0\n",
            "2.19.0\n"
          ]
        }
      ],
      "source": [
        "print (pd.__version__)\n",
        "print (np.__version__)\n",
        "print (sns.__version__)\n",
        "print (matplotlib.__version__)\n",
        "print (tf.__version__)"
      ]
    },
    {
      "cell_type": "code",
      "execution_count": 17,
      "metadata": {
        "colab": {
          "base_uri": "https://localhost:8080/",
          "height": 175
        },
        "id": "6DUZADjCYWGS",
        "outputId": "fed08d89-fd8d-4ed3-e8c2-f57093621fa2"
      },
      "outputs": [
        {
          "output_type": "execute_result",
          "data": {
            "text/plain": [
              "     x    y    z\n",
              "0  0.0  0.0  0.0\n",
              "1  0.0  1.0  1.0\n",
              "2  1.0  0.0  1.0\n",
              "3  1.0  1.0  0.0"
            ],
            "text/html": [
              "\n",
              "  <div id=\"df-a9c8d467-97c7-43c5-9e6b-3fa769784b8d\" class=\"colab-df-container\">\n",
              "    <div>\n",
              "<style scoped>\n",
              "    .dataframe tbody tr th:only-of-type {\n",
              "        vertical-align: middle;\n",
              "    }\n",
              "\n",
              "    .dataframe tbody tr th {\n",
              "        vertical-align: top;\n",
              "    }\n",
              "\n",
              "    .dataframe thead th {\n",
              "        text-align: right;\n",
              "    }\n",
              "</style>\n",
              "<table border=\"1\" class=\"dataframe\">\n",
              "  <thead>\n",
              "    <tr style=\"text-align: right;\">\n",
              "      <th></th>\n",
              "      <th>x</th>\n",
              "      <th>y</th>\n",
              "      <th>z</th>\n",
              "    </tr>\n",
              "  </thead>\n",
              "  <tbody>\n",
              "    <tr>\n",
              "      <th>0</th>\n",
              "      <td>0.0</td>\n",
              "      <td>0.0</td>\n",
              "      <td>0.0</td>\n",
              "    </tr>\n",
              "    <tr>\n",
              "      <th>1</th>\n",
              "      <td>0.0</td>\n",
              "      <td>1.0</td>\n",
              "      <td>1.0</td>\n",
              "    </tr>\n",
              "    <tr>\n",
              "      <th>2</th>\n",
              "      <td>1.0</td>\n",
              "      <td>0.0</td>\n",
              "      <td>1.0</td>\n",
              "    </tr>\n",
              "    <tr>\n",
              "      <th>3</th>\n",
              "      <td>1.0</td>\n",
              "      <td>1.0</td>\n",
              "      <td>0.0</td>\n",
              "    </tr>\n",
              "  </tbody>\n",
              "</table>\n",
              "</div>\n",
              "    <div class=\"colab-df-buttons\">\n",
              "\n",
              "  <div class=\"colab-df-container\">\n",
              "    <button class=\"colab-df-convert\" onclick=\"convertToInteractive('df-a9c8d467-97c7-43c5-9e6b-3fa769784b8d')\"\n",
              "            title=\"Convert this dataframe to an interactive table.\"\n",
              "            style=\"display:none;\">\n",
              "\n",
              "  <svg xmlns=\"http://www.w3.org/2000/svg\" height=\"24px\" viewBox=\"0 -960 960 960\">\n",
              "    <path d=\"M120-120v-720h720v720H120Zm60-500h600v-160H180v160Zm220 220h160v-160H400v160Zm0 220h160v-160H400v160ZM180-400h160v-160H180v160Zm440 0h160v-160H620v160ZM180-180h160v-160H180v160Zm440 0h160v-160H620v160Z\"/>\n",
              "  </svg>\n",
              "    </button>\n",
              "\n",
              "  <style>\n",
              "    .colab-df-container {\n",
              "      display:flex;\n",
              "      gap: 12px;\n",
              "    }\n",
              "\n",
              "    .colab-df-convert {\n",
              "      background-color: #E8F0FE;\n",
              "      border: none;\n",
              "      border-radius: 50%;\n",
              "      cursor: pointer;\n",
              "      display: none;\n",
              "      fill: #1967D2;\n",
              "      height: 32px;\n",
              "      padding: 0 0 0 0;\n",
              "      width: 32px;\n",
              "    }\n",
              "\n",
              "    .colab-df-convert:hover {\n",
              "      background-color: #E2EBFA;\n",
              "      box-shadow: 0px 1px 2px rgba(60, 64, 67, 0.3), 0px 1px 3px 1px rgba(60, 64, 67, 0.15);\n",
              "      fill: #174EA6;\n",
              "    }\n",
              "\n",
              "    .colab-df-buttons div {\n",
              "      margin-bottom: 4px;\n",
              "    }\n",
              "\n",
              "    [theme=dark] .colab-df-convert {\n",
              "      background-color: #3B4455;\n",
              "      fill: #D2E3FC;\n",
              "    }\n",
              "\n",
              "    [theme=dark] .colab-df-convert:hover {\n",
              "      background-color: #434B5C;\n",
              "      box-shadow: 0px 1px 3px 1px rgba(0, 0, 0, 0.15);\n",
              "      filter: drop-shadow(0px 1px 2px rgba(0, 0, 0, 0.3));\n",
              "      fill: #FFFFFF;\n",
              "    }\n",
              "  </style>\n",
              "\n",
              "    <script>\n",
              "      const buttonEl =\n",
              "        document.querySelector('#df-a9c8d467-97c7-43c5-9e6b-3fa769784b8d button.colab-df-convert');\n",
              "      buttonEl.style.display =\n",
              "        google.colab.kernel.accessAllowed ? 'block' : 'none';\n",
              "\n",
              "      async function convertToInteractive(key) {\n",
              "        const element = document.querySelector('#df-a9c8d467-97c7-43c5-9e6b-3fa769784b8d');\n",
              "        const dataTable =\n",
              "          await google.colab.kernel.invokeFunction('convertToInteractive',\n",
              "                                                    [key], {});\n",
              "        if (!dataTable) return;\n",
              "\n",
              "        const docLinkHtml = 'Like what you see? Visit the ' +\n",
              "          '<a target=\"_blank\" href=https://colab.research.google.com/notebooks/data_table.ipynb>data table notebook</a>'\n",
              "          + ' to learn more about interactive tables.';\n",
              "        element.innerHTML = '';\n",
              "        dataTable['output_type'] = 'display_data';\n",
              "        await google.colab.output.renderOutput(dataTable, element);\n",
              "        const docLink = document.createElement('div');\n",
              "        docLink.innerHTML = docLinkHtml;\n",
              "        element.appendChild(docLink);\n",
              "      }\n",
              "    </script>\n",
              "  </div>\n",
              "\n",
              "\n",
              "    <div id=\"df-f89fd69c-d4bb-4d36-9e22-a7a07b62a9e8\">\n",
              "      <button class=\"colab-df-quickchart\" onclick=\"quickchart('df-f89fd69c-d4bb-4d36-9e22-a7a07b62a9e8')\"\n",
              "                title=\"Suggest charts\"\n",
              "                style=\"display:none;\">\n",
              "\n",
              "<svg xmlns=\"http://www.w3.org/2000/svg\" height=\"24px\"viewBox=\"0 0 24 24\"\n",
              "     width=\"24px\">\n",
              "    <g>\n",
              "        <path d=\"M19 3H5c-1.1 0-2 .9-2 2v14c0 1.1.9 2 2 2h14c1.1 0 2-.9 2-2V5c0-1.1-.9-2-2-2zM9 17H7v-7h2v7zm4 0h-2V7h2v10zm4 0h-2v-4h2v4z\"/>\n",
              "    </g>\n",
              "</svg>\n",
              "      </button>\n",
              "\n",
              "<style>\n",
              "  .colab-df-quickchart {\n",
              "      --bg-color: #E8F0FE;\n",
              "      --fill-color: #1967D2;\n",
              "      --hover-bg-color: #E2EBFA;\n",
              "      --hover-fill-color: #174EA6;\n",
              "      --disabled-fill-color: #AAA;\n",
              "      --disabled-bg-color: #DDD;\n",
              "  }\n",
              "\n",
              "  [theme=dark] .colab-df-quickchart {\n",
              "      --bg-color: #3B4455;\n",
              "      --fill-color: #D2E3FC;\n",
              "      --hover-bg-color: #434B5C;\n",
              "      --hover-fill-color: #FFFFFF;\n",
              "      --disabled-bg-color: #3B4455;\n",
              "      --disabled-fill-color: #666;\n",
              "  }\n",
              "\n",
              "  .colab-df-quickchart {\n",
              "    background-color: var(--bg-color);\n",
              "    border: none;\n",
              "    border-radius: 50%;\n",
              "    cursor: pointer;\n",
              "    display: none;\n",
              "    fill: var(--fill-color);\n",
              "    height: 32px;\n",
              "    padding: 0;\n",
              "    width: 32px;\n",
              "  }\n",
              "\n",
              "  .colab-df-quickchart:hover {\n",
              "    background-color: var(--hover-bg-color);\n",
              "    box-shadow: 0 1px 2px rgba(60, 64, 67, 0.3), 0 1px 3px 1px rgba(60, 64, 67, 0.15);\n",
              "    fill: var(--button-hover-fill-color);\n",
              "  }\n",
              "\n",
              "  .colab-df-quickchart-complete:disabled,\n",
              "  .colab-df-quickchart-complete:disabled:hover {\n",
              "    background-color: var(--disabled-bg-color);\n",
              "    fill: var(--disabled-fill-color);\n",
              "    box-shadow: none;\n",
              "  }\n",
              "\n",
              "  .colab-df-spinner {\n",
              "    border: 2px solid var(--fill-color);\n",
              "    border-color: transparent;\n",
              "    border-bottom-color: var(--fill-color);\n",
              "    animation:\n",
              "      spin 1s steps(1) infinite;\n",
              "  }\n",
              "\n",
              "  @keyframes spin {\n",
              "    0% {\n",
              "      border-color: transparent;\n",
              "      border-bottom-color: var(--fill-color);\n",
              "      border-left-color: var(--fill-color);\n",
              "    }\n",
              "    20% {\n",
              "      border-color: transparent;\n",
              "      border-left-color: var(--fill-color);\n",
              "      border-top-color: var(--fill-color);\n",
              "    }\n",
              "    30% {\n",
              "      border-color: transparent;\n",
              "      border-left-color: var(--fill-color);\n",
              "      border-top-color: var(--fill-color);\n",
              "      border-right-color: var(--fill-color);\n",
              "    }\n",
              "    40% {\n",
              "      border-color: transparent;\n",
              "      border-right-color: var(--fill-color);\n",
              "      border-top-color: var(--fill-color);\n",
              "    }\n",
              "    60% {\n",
              "      border-color: transparent;\n",
              "      border-right-color: var(--fill-color);\n",
              "    }\n",
              "    80% {\n",
              "      border-color: transparent;\n",
              "      border-right-color: var(--fill-color);\n",
              "      border-bottom-color: var(--fill-color);\n",
              "    }\n",
              "    90% {\n",
              "      border-color: transparent;\n",
              "      border-bottom-color: var(--fill-color);\n",
              "    }\n",
              "  }\n",
              "</style>\n",
              "\n",
              "      <script>\n",
              "        async function quickchart(key) {\n",
              "          const quickchartButtonEl =\n",
              "            document.querySelector('#' + key + ' button');\n",
              "          quickchartButtonEl.disabled = true;  // To prevent multiple clicks.\n",
              "          quickchartButtonEl.classList.add('colab-df-spinner');\n",
              "          try {\n",
              "            const charts = await google.colab.kernel.invokeFunction(\n",
              "                'suggestCharts', [key], {});\n",
              "          } catch (error) {\n",
              "            console.error('Error during call to suggestCharts:', error);\n",
              "          }\n",
              "          quickchartButtonEl.classList.remove('colab-df-spinner');\n",
              "          quickchartButtonEl.classList.add('colab-df-quickchart-complete');\n",
              "        }\n",
              "        (() => {\n",
              "          let quickchartButtonEl =\n",
              "            document.querySelector('#df-f89fd69c-d4bb-4d36-9e22-a7a07b62a9e8 button');\n",
              "          quickchartButtonEl.style.display =\n",
              "            google.colab.kernel.accessAllowed ? 'block' : 'none';\n",
              "        })();\n",
              "      </script>\n",
              "    </div>\n",
              "\n",
              "  <div id=\"id_fcafe26d-c00f-4713-873b-40a5b20dcf26\">\n",
              "    <style>\n",
              "      .colab-df-generate {\n",
              "        background-color: #E8F0FE;\n",
              "        border: none;\n",
              "        border-radius: 50%;\n",
              "        cursor: pointer;\n",
              "        display: none;\n",
              "        fill: #1967D2;\n",
              "        height: 32px;\n",
              "        padding: 0 0 0 0;\n",
              "        width: 32px;\n",
              "      }\n",
              "\n",
              "      .colab-df-generate:hover {\n",
              "        background-color: #E2EBFA;\n",
              "        box-shadow: 0px 1px 2px rgba(60, 64, 67, 0.3), 0px 1px 3px 1px rgba(60, 64, 67, 0.15);\n",
              "        fill: #174EA6;\n",
              "      }\n",
              "\n",
              "      [theme=dark] .colab-df-generate {\n",
              "        background-color: #3B4455;\n",
              "        fill: #D2E3FC;\n",
              "      }\n",
              "\n",
              "      [theme=dark] .colab-df-generate:hover {\n",
              "        background-color: #434B5C;\n",
              "        box-shadow: 0px 1px 3px 1px rgba(0, 0, 0, 0.15);\n",
              "        filter: drop-shadow(0px 1px 2px rgba(0, 0, 0, 0.3));\n",
              "        fill: #FFFFFF;\n",
              "      }\n",
              "    </style>\n",
              "    <button class=\"colab-df-generate\" onclick=\"generateWithVariable('dfXOR')\"\n",
              "            title=\"Generate code using this dataframe.\"\n",
              "            style=\"display:none;\">\n",
              "\n",
              "  <svg xmlns=\"http://www.w3.org/2000/svg\" height=\"24px\"viewBox=\"0 0 24 24\"\n",
              "       width=\"24px\">\n",
              "    <path d=\"M7,19H8.4L18.45,9,17,7.55,7,17.6ZM5,21V16.75L18.45,3.32a2,2,0,0,1,2.83,0l1.4,1.43a1.91,1.91,0,0,1,.58,1.4,1.91,1.91,0,0,1-.58,1.4L9.25,21ZM18.45,9,17,7.55Zm-12,3A5.31,5.31,0,0,0,4.9,8.1,5.31,5.31,0,0,0,1,6.5,5.31,5.31,0,0,0,4.9,4.9,5.31,5.31,0,0,0,6.5,1,5.31,5.31,0,0,0,8.1,4.9,5.31,5.31,0,0,0,12,6.5,5.46,5.46,0,0,0,6.5,12Z\"/>\n",
              "  </svg>\n",
              "    </button>\n",
              "    <script>\n",
              "      (() => {\n",
              "      const buttonEl =\n",
              "        document.querySelector('#id_fcafe26d-c00f-4713-873b-40a5b20dcf26 button.colab-df-generate');\n",
              "      buttonEl.style.display =\n",
              "        google.colab.kernel.accessAllowed ? 'block' : 'none';\n",
              "\n",
              "      buttonEl.onclick = () => {\n",
              "        google.colab.notebook.generateWithVariable('dfXOR');\n",
              "      }\n",
              "      })();\n",
              "    </script>\n",
              "  </div>\n",
              "\n",
              "    </div>\n",
              "  </div>\n"
            ],
            "application/vnd.google.colaboratory.intrinsic+json": {
              "type": "dataframe",
              "variable_name": "dfXOR",
              "summary": "{\n  \"name\": \"dfXOR\",\n  \"rows\": 4,\n  \"fields\": [\n    {\n      \"column\": \"x\",\n      \"properties\": {\n        \"dtype\": \"number\",\n        \"std\": 0.5773502691896257,\n        \"min\": 0.0,\n        \"max\": 1.0,\n        \"num_unique_values\": 2,\n        \"samples\": [\n          1.0,\n          0.0\n        ],\n        \"semantic_type\": \"\",\n        \"description\": \"\"\n      }\n    },\n    {\n      \"column\": \"y\",\n      \"properties\": {\n        \"dtype\": \"number\",\n        \"std\": 0.5773502691896257,\n        \"min\": 0.0,\n        \"max\": 1.0,\n        \"num_unique_values\": 2,\n        \"samples\": [\n          1.0,\n          0.0\n        ],\n        \"semantic_type\": \"\",\n        \"description\": \"\"\n      }\n    },\n    {\n      \"column\": \"z\",\n      \"properties\": {\n        \"dtype\": \"number\",\n        \"std\": 0.5773502691896257,\n        \"min\": 0.0,\n        \"max\": 1.0,\n        \"num_unique_values\": 2,\n        \"samples\": [\n          1.0,\n          0.0\n        ],\n        \"semantic_type\": \"\",\n        \"description\": \"\"\n      }\n    }\n  ]\n}"
            }
          },
          "metadata": {},
          "execution_count": 17
        }
      ],
      "source": [
        "# Cargar los datos en un DataFrame\n",
        "dfXOR=pd.read_csv (\"DatosXOR.csv\", delimiter=';', header=None)\n",
        "dfXOR.columns=[\"x\", \"y\", \"z\"]\n",
        "dfXOR"
      ]
    },
    {
      "cell_type": "code",
      "execution_count": 18,
      "metadata": {
        "scrolled": true,
        "id": "GWTvvHnQ-q-N",
        "outputId": "e82effae-82af-4234-9844-3a847ef131e6",
        "colab": {
          "base_uri": "https://localhost:8080/"
        }
      },
      "outputs": [
        {
          "output_type": "execute_result",
          "data": {
            "text/plain": [
              "array([[0., 0., 0.],\n",
              "       [0., 1., 1.],\n",
              "       [1., 0., 1.],\n",
              "       [1., 1., 0.]])"
            ]
          },
          "metadata": {},
          "execution_count": 18
        }
      ],
      "source": [
        "# Pasar los datos a un array\n",
        "arrayXOR=np.array (dfXOR)\n",
        "arrayXOR"
      ]
    },
    {
      "cell_type": "code",
      "execution_count": 19,
      "metadata": {
        "colab": {
          "base_uri": "https://localhost:8080/"
        },
        "id": "QZC0-sOCaB0l",
        "outputId": "2d3e5438-6796-4c4e-8f1c-e2088cdafc3c"
      },
      "outputs": [
        {
          "output_type": "stream",
          "name": "stdout",
          "text": [
            "Entradas\n",
            "[[0. 0.]\n",
            " [0. 1.]\n",
            " [1. 0.]\n",
            " [1. 1.]]\n",
            "Es un array (vector) que contiene los arrays (vectores) de entradas\n",
            "<class 'numpy.ndarray'>\n",
            "Salidas\n",
            "[[0.]\n",
            " [1.]\n",
            " [1.]\n",
            " [0.]]\n",
            "Es un array que contiene los arrays de salidas\n"
          ]
        }
      ],
      "source": [
        "# Las RN van a necesitar que los datos de entrada y de salida estén en arrays separados.\n",
        "# Sepaamos entradas y salida\n",
        "\n",
        "print (\"Entradas\")\n",
        "arrayEntradas=arrayXOR[:,[0,1]]\n",
        "print (arrayEntradas)\n",
        "print (\"Es un array (vector) que contiene los arrays (vectores) de entradas\")\n",
        "print (type (arrayEntradas))\n",
        "\n",
        "print (\"Salidas\")\n",
        "arraySalidas=arrayXOR[:,[2]]\n",
        "print (arraySalidas)\n",
        "print (\"Es un array que contiene los arrays de salidas\")"
      ]
    },
    {
      "cell_type": "code",
      "execution_count": 20,
      "metadata": {
        "colab": {
          "base_uri": "https://localhost:8080/",
          "height": 447
        },
        "id": "2HsGF7qZizcZ",
        "outputId": "4f66d7e8-6127-4a18-8a68-070ddb8cdd9b"
      },
      "outputs": [
        {
          "output_type": "execute_result",
          "data": {
            "text/plain": [
              "<matplotlib.collections.PathCollection at 0x7c71c4598320>"
            ]
          },
          "metadata": {},
          "execution_count": 20
        },
        {
          "output_type": "display_data",
          "data": {
            "text/plain": [
              "<Figure size 640x480 with 1 Axes>"
            ],
            "image/png": "[encoded data removed]"
          },
          "metadata": {}
        }
      ],
      "source": [
        "# Siempre es interesante hacer gráficas de los datos\n",
        "\n",
        "z0=dfXOR[dfXOR.z == 0]  # Conjunto de datos con salida 0\n",
        "z1=dfXOR[dfXOR.z == 1]  # Conjunto de datos con salida 1\n",
        "\n",
        "plt.scatter (z0.iloc[:,0], z0.iloc[:,1], c='b', marker='o')\n",
        "plt.scatter (z1.iloc[:,0], z1.iloc[:,1], c='y', marker='x')"
      ]
    },
    {
      "cell_type": "markdown",
      "metadata": {
        "id": "UMtSI0g--q-O"
      },
      "source": [
        "### La primera red neuronal"
      ]
    },
    {
      "cell_type": "code",
      "execution_count": 21,
      "metadata": {
        "colab": {
          "base_uri": "https://localhost:8080/"
        },
        "id": "UsWf_6cE0zkZ",
        "outputId": "ff98aaa7-0e22-4e2f-e4e2-0c984a986cee"
      },
      "outputs": [
        {
          "output_type": "stream",
          "name": "stderr",
          "text": [
            "/usr/local/lib/python3.12/dist-packages/keras/src/layers/core/dense.py:93: UserWarning: Do not pass an `input_shape`/`input_dim` argument to a layer. When using Sequential models, prefer using an `Input(shape)` object as the first layer in the model instead.\n",
            "  super().__init__(activity_regularizer=activity_regularizer, **kwargs)\n"
          ]
        },
        {
          "output_type": "execute_result",
          "data": {
            "text/plain": [
              "<keras.src.callbacks.history.History at 0x7c71c43ff4a0>"
            ]
          },
          "metadata": {},
          "execution_count": 21
        }
      ],
      "source": [
        "# Vamos a hacer un seguimiento del aprendizaje por medio de la opción callbacks.\n",
        "history = History ()\n",
        "\n",
        "model = Sequential()\n",
        "# La capa oculta\n",
        "model.add(layers.Dense(2, input_dim=2, activation=\"tanh\", name=\"Oculta\"))\n",
        "# La capa de salida\n",
        "model.add(layers.Dense(1, activation=\"sigmoid\",name=\"Salida\"))\n",
        "\n",
        "# Seleccionamos el optimizador: Gradiente Decreciente Simple,\n",
        "# con un coeficiente de aprendizaje 0.1 (parámetro ajustale)\n",
        "sgd = SGD(learning_rate=0.1)\n",
        "\n",
        "# Creamos el modelo, indicando cuál va a ser el tipo de función pérdida. En este caso,\n",
        "# al ser una clasificación binaria, usamos binary_corssentropy\n",
        "model.compile(loss='binary_crossentropy', optimizer=sgd)\n",
        "\n",
        "# Entrenamos/ajustamos el modelo.\n",
        "# Observa que especificamos el número de épocas de entrenamiento que vamos a usar\n",
        "model.fit(arrayEntradas, arraySalidas, epochs=500, verbose=0, callbacks=[history])"
      ]
    },
    {
      "cell_type": "code",
      "execution_count": 22,
      "metadata": {
        "colab": {
          "base_uri": "https://localhost:8080/",
          "height": 491
        },
        "outputId": "5647764d-22d1-41be-da86-05e33f973134",
        "id": "3rBqtwA1-q-O"
      },
      "outputs": [
        {
          "output_type": "execute_result",
          "data": {
            "text/plain": [
              "<matplotlib.collections.PathCollection at 0x7c71c4474200>"
            ]
          },
          "metadata": {},
          "execution_count": 22
        },
        {
          "output_type": "display_data",
          "data": {
            "text/plain": [
              "<Figure size 640x480 with 1 Axes>"
            ],
            "image/png": "[encoded data removed]"
          },
          "metadata": {}
        }
      ],
      "source": [
        "# Obtenemos del objeto history la evolución del error (loss) a lo laro de las distintas épocas de entrenamiento\n",
        "# y las representamos para ver si hemos conseguido que la red aprenda los ejemplos:\n",
        "epochs=history.epoch\n",
        "loss=history.history['loss']\n",
        "plt.title (\"Error/épocas\")\n",
        "plt.xlabel (\"Épocas de entrenamiento\")\n",
        "plt.ylabel (\"Error\")\n",
        "plt.scatter (epochs, loss)"
      ]
    },
    {
      "cell_type": "code",
      "execution_count": 23,
      "metadata": {
        "id": "7o71-hYMyN7L"
      },
      "outputs": [],
      "source": [
        "# Observa que a partir de las 2000 épocas ya el error (loss) de aprendizaje no varía mucho.\n"
      ]
    },
    {
      "cell_type": "code",
      "execution_count": 38,
      "metadata": {
        "id": "Co7bd_t5-q-O",
        "outputId": "2e2c0fd6-19e8-48ac-8250-2aaac2d28bf7",
        "colab": {
          "base_uri": "https://localhost:8080/",
          "height": 245
        }
      },
      "outputs": [
        {
          "output_type": "stream",
          "name": "stdout",
          "text": [
            "[0.   0.25 0.5  0.75 1.  ] [0.   0.25 0.5  0.75 1.  ]\n",
            "Entrada =  [0.0, 0.0]\n"
          ]
        },
        {
          "output_type": "error",
          "ename": "TypeError",
          "evalue": "Cannot interpret '0.0' as a data type",
          "traceback": [
            "\u001b[0;31m---------------------------------------------------------------------------\u001b[0m",
            "\u001b[0;31mTypeError\u001b[0m                                 Traceback (most recent call last)",
            "\u001b[0;32m/tmp/ipython-input-1858057398.py\u001b[0m in \u001b[0;36m<cell line: 0>\u001b[0;34m()\u001b[0m\n\u001b[1;32m     15\u001b[0m     \u001b[0mprint\u001b[0m \u001b[0;34m(\u001b[0m\u001b[0;34m\"Entrada = \"\u001b[0m\u001b[0;34m,\u001b[0m \u001b[0mEntradaPrueba\u001b[0m\u001b[0;34m)\u001b[0m\u001b[0;34m\u001b[0m\u001b[0;34m\u001b[0m\u001b[0m\n\u001b[1;32m     16\u001b[0m \u001b[0;34m\u001b[0m\u001b[0m\n\u001b[0;32m---> 17\u001b[0;31m     \u001b[0mz\u001b[0m\u001b[0;34m=\u001b[0m\u001b[0mmodel\u001b[0m\u001b[0;34m.\u001b[0m\u001b[0mpredict\u001b[0m \u001b[0;34m(\u001b[0m\u001b[0mnp\u001b[0m\u001b[0;34m.\u001b[0m\u001b[0marray\u001b[0m\u001b[0;34m(\u001b[0m\u001b[0;36m0.0\u001b[0m\u001b[0;34m,\u001b[0m \u001b[0;36m0.0\u001b[0m\u001b[0;34m)\u001b[0m\u001b[0;34m)\u001b[0m\u001b[0;34m\u001b[0m\u001b[0;34m\u001b[0m\u001b[0m\n\u001b[0m\u001b[1;32m     18\u001b[0m     \u001b[0mSalidaPrueba\u001b[0m\u001b[0;34m=\u001b[0m\u001b[0mnp\u001b[0m\u001b[0;34m.\u001b[0m\u001b[0mappend\u001b[0m \u001b[0;34m(\u001b[0m\u001b[0mSalidaPrueba\u001b[0m\u001b[0;34m,\u001b[0m \u001b[0mz\u001b[0m\u001b[0;34m)\u001b[0m\u001b[0;34m\u001b[0m\u001b[0;34m\u001b[0m\u001b[0m\n\u001b[1;32m     19\u001b[0m \u001b[0;34m\u001b[0m\u001b[0m\n",
            "\u001b[0;31mTypeError\u001b[0m: Cannot interpret '0.0' as a data type"
          ]
        }
      ],
      "source": [
        "# Otra forma muy interesante de visualizar los resultados es mediante un mapa de temperatura\n",
        "\n",
        "Pasos=5\n",
        "x0=np.linspace (0., 1.0, Pasos)\n",
        "y0=np.linspace (0., 1.0, Pasos)\n",
        "\n",
        "print (x0, y0)\n",
        "\n",
        "SalidaPrueba = np.empty (0)\n",
        "\n",
        "for x_prueba in x0:\n",
        "  for y_prueba in y0:\n",
        "    EntradaPrueba=[float(x_prueba), float(y_prueba)]\n",
        "\n",
        "    print (\"Entrada = \", EntradaPrueba)\n",
        "\n",
        "    z=model.predict (np.array(0.0, 0.0))\n",
        "    SalidaPrueba=np.append (SalidaPrueba, z)\n",
        "\n",
        "plt.contourf (x0, y0, SalidaPrueba.reshape (Pasos, Pasos), 5)\n",
        "barra=plt.colorbar()"
      ]
    },
    {
      "cell_type": "code",
      "execution_count": null,
      "metadata": {
        "id": "kZxx78aPE64A"
      },
      "outputs": [],
      "source": [
        "# También puede ser muy interesante visualizar la red.\n",
        "import tensorflow as tf\n",
        "\n",
        "dot_img_file = 'tmp/model_1.png'\n",
        "tf.keras.utils.plot_model(model, to_file=dot_img_file, show_shapes=True)"
      ]
    },
    {
      "cell_type": "code",
      "execution_count": null,
      "metadata": {
        "id": "6tjK9iDR-q-P"
      },
      "outputs": [],
      "source": [
        "model.summary()"
      ]
    },
    {
      "cell_type": "markdown",
      "metadata": {
        "id": "5sHP2COrSwv8"
      },
      "source": [
        "### Selección de Hiperparámetros\n",
        "Vamos a buscar la mejor combinación de elementos de proceso en la capa oculta y de coeficiente de aprendizaje.\n",
        "Utiliza una rejilla (param grid)"
      ]
    },
    {
      "cell_type": "code",
      "execution_count": null,
      "metadata": {
        "id": "LYsmYBWH_28V"
      },
      "outputs": [],
      "source": [
        "ep_capa_oculta= (np.linspace(2,40,5)).astype (int)\n",
        "num_ep=len (ep_capa_oculta)\n",
        "lcoef=np.linspace (0.01, 0.2,5)\n",
        "num_lc=len (lcoef)\n",
        "\n",
        "resultados = []\n",
        "\n",
        "fig = plt.figure()\n",
        "fig.set_figheight(10)\n",
        "fig.set_figwidth(10)\n",
        "\n",
        "subplot = 0\n",
        "\n",
        "for ep in ep_capa_oculta:\n",
        "  for lc in lcoef:\n",
        "    etiqueta=\"ep=\"+str(ep)+\" lc=\"+\"%.3f\"%lc\n",
        "    print (etiqueta, end=' ')\n",
        "\n",
        "    history = History ()\n",
        "\n",
        "    model = Sequential()\n",
        "    model.add(Dense(ep, input_dim=2))\n",
        "    model.add(Activation('tanh'))\n",
        "    model.add(Dense(1))\n",
        "    model.add(Activation('sigmoid'))\n",
        "\n",
        "    sgd = SGD(learning_rate=lc)\n",
        "    model.compile(loss='binary_crossentropy', optimizer=sgd)\n",
        "\n",
        "    model.fit(arrayEntradas, arraySalidas, epochs=750, verbose=0, callbacks=[history])\n",
        "\n",
        "    epochs=history.epoch\n",
        "    loss=history.history['loss']\n",
        "\n",
        "    print (\"%.3f\"%loss [-1])\n",
        "\n",
        "    resultados.append (loss [-1])\n",
        "\n",
        "    subplot=subplot+1\n",
        "\n",
        "    ax = fig.add_subplot (num_ep,num_lc,subplot)\n",
        "\n",
        "    #ax = fig.add_subplot (111)\n",
        "\n",
        "    ax.scatter (epochs, loss)\n",
        "    ax.set_title(etiqueta, size=8)\n",
        "\n",
        "fig.show()"
      ]
    },
    {
      "cell_type": "code",
      "execution_count": null,
      "metadata": {
        "id": "MZvn4m1VdG_P"
      },
      "outputs": [],
      "source": [
        "# Una alternativa sencilla para visualizar los resultados\n",
        "\n",
        "resultados_tmp=np.reshape(resultados, (num_ep, num_lc))\n",
        "\n",
        "df_resultados=pd.DataFrame (resultados_tmp, index=ep_capa_oculta, columns=lcoef)\n",
        "\n",
        "plt.pcolor (df_resultados)\n",
        "plt.colorbar()\n",
        "plt.xlabel(\"lr\")\n",
        "plt.ylabel(\"ep\")\n",
        "\n",
        "plt.show()"
      ]
    },
    {
      "cell_type": "code",
      "execution_count": null,
      "metadata": {
        "id": "4B8XVOMt-q-P"
      },
      "outputs": [],
      "source": [
        "# Otra alternativa más espectacular\n",
        "sns.heatmap(df_resultados, annot=True)"
      ]
    }
  ],
  "metadata": {
    "colab": {
      "name": "XOR_Keras.ipnb",
      "provenance": []
    },
    "kernelspec": {
      "display_name": "Python 3.7.11 ('base')",
      "language": "python",
      "name": "python3"
    },
    "language_info": {
      "codemirror_mode": {
        "name": "ipython",
        "version": 3
      },
      "file_extension": ".py",
      "mimetype": "text/x-python",
      "name": "python",
      "nbconvert_exporter": "python",
      "pygments_lexer": "ipython3",
      "version": "3.11.4"
    },
    "vscode": {
      "interpreter": {
        "hash": "03fb4e370d752bc6fa3d62202c8ccd1f9f257c56ebdc8c7b4f0acab492dc9922"
      }
    }
  },
  "nbformat": 4,
  "nbformat_minor": 0
}